{
 "cells": [
  {
   "attachments": {},
   "cell_type": "markdown",
   "metadata": {},
   "source": [
    "# Video Link: https://drive.google.com/file/d/1LC2U4baUn3W2MwQybZSSBzfLUuqkFqcb/view?usp=sharing"
   ]
  },
  {
   "attachments": {},
   "cell_type": "markdown",
   "metadata": {},
   "source": [
    "# COGS 108 - Fast Food and Income"
   ]
  },
  {
   "cell_type": "markdown",
   "metadata": {},
   "source": [
    "## Permissions\n",
    "\n",
    "Place an `X` in the appropriate bracket below to specify if you would like your group's project to be made available to the public. (Note that student names will be included (but PIDs will be scraped from any groups who include their PIDs).\n",
    "\n",
    "* [ X ] YES - make available\n",
    "* [  ] NO - keep private"
   ]
  },
  {
   "cell_type": "markdown",
   "metadata": {},
   "source": [
    "# Overview"
   ]
  },
  {
   "attachments": {},
   "cell_type": "markdown",
   "metadata": {},
   "source": [
    "Our project explored datasets of eceonomic incomes and fast food data of cities around the United States, looking for potential relationships between the two. We expected a negative linear relationship between average household income and fast food ratings, considering that the prioritization of quality from those of higher income might negatively affect the ratings of fast food restaurants. While we did see some slight trends in favor of our hypothesis, the results of tests were not statisitcally significant enough to support our hypothesis."
   ]
  },
  {
   "cell_type": "markdown",
   "metadata": {},
   "source": [
    "# Names\n",
    "\n",
    "- Akar Singh\n",
    "- Asya Balas\n",
    "- Cody Lin\n",
    "- Grant Duntugan\n",
    "- Justin Wu"
   ]
  },
  {
   "cell_type": "markdown",
   "metadata": {},
   "source": [
    "<a id='research_question'></a>\n",
    "# Research Question"
   ]
  },
  {
   "cell_type": "markdown",
   "metadata": {},
   "source": [
    "Does the average economic income of a city affect the ratings of fast food restaurants within cities in America?"
   ]
  },
  {
   "cell_type": "markdown",
   "metadata": {},
   "source": [
    "<a id='background'></a>\n",
    "\n",
    "## Background & Prior Work"
   ]
  },
  {
   "attachments": {},
   "cell_type": "markdown",
   "metadata": {},
   "source": [
    "The fast food restaurant industry in America has had a market size of 300 billion dollars in the past five years and is continuing to grow to this day[^IBISWorld]. These restaurant chains can contribute their success to convenient and fast access to food for many. Our group aims to find out if their success is dependent on a specific economic demographic within America. \n",
    "\n",
    "It is well known that fast food is strongly associated with obesity[^Rosenheck]. A review of 16 studies on fast food and obesity were reviewed to determine whether fast food causes obesity. A strong association between the two were found, which can be attributed to large portion sizes, high glycemic load, refined starch, added sugars, and high energy density of fast food. All of these factors lead to many people exceeding the recommended dietary intake. However, it is important to mention that it could not be proven that fast food causes obesity.\n",
    "\n",
    "There have also been some research, albeit few, on how better perception of fast food can lead to increased consumption of fast food[^Min]. Review of perceptional studies found that positive perception of fast food such as thinking that it tasted good was associated with higher consumption, while those who thought fast food wasn't good was associated with lower consumption. One downside to these results is that the number of research papers published on this is very limited.\n",
    "\n",
    "We hope that by exploring fast food ratings throughout different cities, we will be able to use this background info to make an assumption about fast food consumption and obesity within economic groups within America.\n",
    "\n",
    "It is important to note that despite the number of research around fast food and sentiment, there have not been a lot of solid results that tie the two together. Therefore, statistically significant findings towards our hypothesis may not be able to say much about economic groups and fast food ratings.\n",
    "\n",
    "[^IBISWorld]: IBISWorld. (2022, June). Fast Food Restaurants in the US - Market Size 2005 - 2028. Retrieved October 23, 2022, from https://www.ibisworld.com/industry-statistics/market-size/fast-food-restaurants-united-states/\n",
    "\n",
    "[^Min]: Min J, Jahns L, Xue H, Kandiah J, Wang Y. Americans' Perceptions about Fast Food and How They Associate with Its Consumption and Obesity Risk. Adv Nutr. 2018 Sep 1;9(5):590-601. doi: 10.1093/advances/nmy032. PMID: 30084879; PMCID: PMC6140449.\n",
    "\n",
    "[^Rosenheck]: Rosenheck, R. (2008), Fast food consumption and increased caloric intake: a systematic review of a trajectory towards weight gain and obesity risk. Obesity Reviews, 9: 535-547. https://doi.org/10.1111/j.1467-789X.2008.00477.x"
   ]
  },
  {
   "cell_type": "markdown",
   "metadata": {},
   "source": [
    "# Hypothesis\n"
   ]
  },
  {
   "cell_type": "markdown",
   "metadata": {},
   "source": [
    "We believe that fast food in lower income cities will be higher rated than those in higher income cities. This is because fast food is generally cheap and easier to access which can be positively seen in lower income cities. In higher income cities, we believe they will often have access to more options of higher quality food, and will rate fast food lower."
   ]
  },
  {
   "cell_type": "markdown",
   "metadata": {},
   "source": [
    "# Alternative Hypothesis"
   ]
  },
  {
   "cell_type": "markdown",
   "metadata": {},
   "source": [
    "Fast food restaurant ratings will not have a significant statistical relationship to the average income of a city. The economical status of a city is very diverse and fast food provides reasonable benefits to a demographic of all economic statuses."
   ]
  },
  {
   "cell_type": "markdown",
   "metadata": {},
   "source": [
    "# Dataset(s)"
   ]
  },
  {
   "cell_type": "markdown",
   "metadata": {},
   "source": [
    "## fast-food-restaurant-data.csv\n",
    "Link: https://www.kaggle.com/datasets/datafiniti/fast-food-restaurants\n",
    "\n",
    "\\# Datapoints: 10,000\n",
    "\n",
    "List of around 10K fast food restaurant data, comprised of restaurant name, address, city, country, keys, latitude, longitude, name, postalCode, province, & websites. However, we only used the name and location data.\n",
    "\n",
    "## household-income-data.csv\n",
    "Link: https://www.kaggle.com/datasets/goldenoakresearch/us-household-income-stats-geo-locations\n",
    "\n",
    "\\#: Datapoints: 32,526\n",
    "\n",
    "List of around 32K household income data, comprised of id, State_Code, State_Name, State_ab, County, City, Place, Type, Primary, Zip_Code, Area_Code, ALand, AWater, Lat, Lon, Mean, Median, Stdev, sum_w."
   ]
  },
  {
   "cell_type": "markdown",
   "metadata": {},
   "source": [
    "# Setup"
   ]
  },
  {
   "cell_type": "code",
   "execution_count": 1,
   "metadata": {},
   "outputs": [],
   "source": [
    "import pandas as pd\n",
    "import numpy as np\n",
    "import seaborn as sns\n",
    "import patsy\n",
    "import statsmodels.api as sm\n",
    "import scipy.stats as stats\n",
    "import matplotlib.pyplot as plt\n",
    "from scipy.stats import ttest_ind, chisquare, normaltest\n",
    "\n",
    "filename = \"full_df_ver2.csv\"\n",
    "full_df = pd.read_csv(filename)"
   ]
  },
  {
   "cell_type": "markdown",
   "metadata": {},
   "source": [
    "# Data Cleaning"
   ]
  },
  {
   "attachments": {},
   "cell_type": "markdown",
   "metadata": {},
   "source": [
    "For the actual code used, refer to the EDA Checkpoint file."
   ]
  },
  {
   "attachments": {},
   "cell_type": "markdown",
   "metadata": {},
   "source": [
    "In order to clean the data, the following steps were taken:\n",
    "\n",
    "1. Changed the column names to be consistent with underscore casing\n",
    "2. Created a column for average city income info\n",
    "3. Removed cities with non-positive income\n",
    "4. Merged city income info with the restaurant info by city and state name\n",
    "5. Added column to house usable links for the Google API\n",
    "6. Used links to get rating info from Google API\n",
    "7. Removed ratings that were either NA or 0\n",
    "8. Removed Puerto Rico from the data\n"
   ]
  },
  {
   "cell_type": "markdown",
   "metadata": {},
   "source": [
    "# Data Analysis & Results"
   ]
  },
  {
   "cell_type": "markdown",
   "metadata": {},
   "source": [
    "Include cells that describe the steps in your data analysis."
   ]
  },
  {
   "cell_type": "markdown",
   "metadata": {},
   "source": [
    "## Income\n",
    "\n",
    "Before beginning the EDA aspect of our project, we wanted to get a general overview of our data and look at some descriptive statistics. Most importantly, we wanted to take a look at the average `mean_income`, the 75th percentile for `mean_income`, and average `median_income` for our dataset. Looking at these values is important for a couple reasons. One, it will give us a general value to compare against when looking at individual cities, meaning we will have an idea of which cities are above and below the 25th percentile for `mean_income` and average `median_income`. This will help us establish a reference point. Second, we also wanted to look at the average and distribution of `median_income` because we might want to look at the ratings as compared to `median_income`. We might want to do this later on in our EDA because in some countries, like the United States, the median income is a more accurate reflection of what the general population's income is rather than the mean income."
   ]
  },
  {
   "cell_type": "code",
   "execution_count": 2,
   "metadata": {},
   "outputs": [
    {
     "name": "stdout",
     "output_type": "stream",
     "text": [
      "Cincinnati    119\n",
      "Las Vegas      71\n",
      "Houston        62\n",
      "Miami          58\n",
      "Denver         52\n",
      "             ... \n",
      "Seattle        16\n",
      "Muncie         16\n",
      "Kennewick      15\n",
      "Roanoke        15\n",
      "Dubuque        15\n",
      "Name: city, Length: 64, dtype: int64\n"
     ]
    },
    {
     "data": {
      "text/html": [
       "<div>\n",
       "<style scoped>\n",
       "    .dataframe tbody tr th:only-of-type {\n",
       "        vertical-align: middle;\n",
       "    }\n",
       "\n",
       "    .dataframe tbody tr th {\n",
       "        vertical-align: top;\n",
       "    }\n",
       "\n",
       "    .dataframe thead th {\n",
       "        text-align: right;\n",
       "    }\n",
       "</style>\n",
       "<table border=\"1\" class=\"dataframe\">\n",
       "  <thead>\n",
       "    <tr style=\"text-align: right;\">\n",
       "      <th></th>\n",
       "      <th>Unnamed: 0</th>\n",
       "      <th>index</th>\n",
       "      <th>latitude</th>\n",
       "      <th>longitude</th>\n",
       "      <th>mean_income</th>\n",
       "      <th>median_income</th>\n",
       "      <th>standard_deviation_income</th>\n",
       "      <th>city_count</th>\n",
       "      <th>ff_rest_count</th>\n",
       "      <th>rating</th>\n",
       "    </tr>\n",
       "  </thead>\n",
       "  <tbody>\n",
       "    <tr>\n",
       "      <th>count</th>\n",
       "      <td>1887.000000</td>\n",
       "      <td>1887.000000</td>\n",
       "      <td>1887.000000</td>\n",
       "      <td>1887.000000</td>\n",
       "      <td>1887.000000</td>\n",
       "      <td>1887.000000</td>\n",
       "      <td>1887.000000</td>\n",
       "      <td>1887.000000</td>\n",
       "      <td>1887.000000</td>\n",
       "      <td>1887.000000</td>\n",
       "    </tr>\n",
       "    <tr>\n",
       "      <th>mean</th>\n",
       "      <td>953.202968</td>\n",
       "      <td>953.202968</td>\n",
       "      <td>36.689651</td>\n",
       "      <td>-93.217647</td>\n",
       "      <td>62957.619021</td>\n",
       "      <td>76992.563652</td>\n",
       "      <td>46029.301478</td>\n",
       "      <td>76.981982</td>\n",
       "      <td>36.040276</td>\n",
       "      <td>3.618919</td>\n",
       "    </tr>\n",
       "    <tr>\n",
       "      <th>std</th>\n",
       "      <td>551.337160</td>\n",
       "      <td>551.337160</td>\n",
       "      <td>5.343418</td>\n",
       "      <td>15.832218</td>\n",
       "      <td>12018.852075</td>\n",
       "      <td>24870.377202</td>\n",
       "      <td>6868.612154</td>\n",
       "      <td>69.960015</td>\n",
       "      <td>25.572770</td>\n",
       "      <td>0.443723</td>\n",
       "    </tr>\n",
       "    <tr>\n",
       "      <th>min</th>\n",
       "      <td>0.000000</td>\n",
       "      <td>0.000000</td>\n",
       "      <td>20.578696</td>\n",
       "      <td>-157.930853</td>\n",
       "      <td>27360.000000</td>\n",
       "      <td>18467.000000</td>\n",
       "      <td>17933.000000</td>\n",
       "      <td>1.000000</td>\n",
       "      <td>15.000000</td>\n",
       "      <td>1.000000</td>\n",
       "    </tr>\n",
       "    <tr>\n",
       "      <th>25%</th>\n",
       "      <td>475.000000</td>\n",
       "      <td>475.000000</td>\n",
       "      <td>33.480742</td>\n",
       "      <td>-103.202972</td>\n",
       "      <td>56694.954545</td>\n",
       "      <td>61552.000000</td>\n",
       "      <td>41722.840000</td>\n",
       "      <td>24.000000</td>\n",
       "      <td>20.000000</td>\n",
       "      <td>3.300000</td>\n",
       "    </tr>\n",
       "    <tr>\n",
       "      <th>50%</th>\n",
       "      <td>951.000000</td>\n",
       "      <td>951.000000</td>\n",
       "      <td>37.995684</td>\n",
       "      <td>-87.977720</td>\n",
       "      <td>63121.588235</td>\n",
       "      <td>74091.500000</td>\n",
       "      <td>44859.437500</td>\n",
       "      <td>64.000000</td>\n",
       "      <td>27.000000</td>\n",
       "      <td>3.600000</td>\n",
       "    </tr>\n",
       "    <tr>\n",
       "      <th>75%</th>\n",
       "      <td>1430.500000</td>\n",
       "      <td>1430.500000</td>\n",
       "      <td>40.077520</td>\n",
       "      <td>-84.144230</td>\n",
       "      <td>68297.500000</td>\n",
       "      <td>92485.227679</td>\n",
       "      <td>49482.953020</td>\n",
       "      <td>103.000000</td>\n",
       "      <td>41.000000</td>\n",
       "      <td>3.900000</td>\n",
       "    </tr>\n",
       "    <tr>\n",
       "      <th>max</th>\n",
       "      <td>1909.000000</td>\n",
       "      <td>1909.000000</td>\n",
       "      <td>52.022988</td>\n",
       "      <td>85.764873</td>\n",
       "      <td>107126.750000</td>\n",
       "      <td>300000.000000</td>\n",
       "      <td>72441.000000</td>\n",
       "      <td>298.000000</td>\n",
       "      <td>119.000000</td>\n",
       "      <td>5.000000</td>\n",
       "    </tr>\n",
       "  </tbody>\n",
       "</table>\n",
       "</div>"
      ],
      "text/plain": [
       "        Unnamed: 0        index     latitude    longitude    mean_income  \\\n",
       "count  1887.000000  1887.000000  1887.000000  1887.000000    1887.000000   \n",
       "mean    953.202968   953.202968    36.689651   -93.217647   62957.619021   \n",
       "std     551.337160   551.337160     5.343418    15.832218   12018.852075   \n",
       "min       0.000000     0.000000    20.578696  -157.930853   27360.000000   \n",
       "25%     475.000000   475.000000    33.480742  -103.202972   56694.954545   \n",
       "50%     951.000000   951.000000    37.995684   -87.977720   63121.588235   \n",
       "75%    1430.500000  1430.500000    40.077520   -84.144230   68297.500000   \n",
       "max    1909.000000  1909.000000    52.022988    85.764873  107126.750000   \n",
       "\n",
       "       median_income  standard_deviation_income   city_count  ff_rest_count  \\\n",
       "count    1887.000000                1887.000000  1887.000000    1887.000000   \n",
       "mean    76992.563652               46029.301478    76.981982      36.040276   \n",
       "std     24870.377202                6868.612154    69.960015      25.572770   \n",
       "min     18467.000000               17933.000000     1.000000      15.000000   \n",
       "25%     61552.000000               41722.840000    24.000000      20.000000   \n",
       "50%     74091.500000               44859.437500    64.000000      27.000000   \n",
       "75%     92485.227679               49482.953020   103.000000      41.000000   \n",
       "max    300000.000000               72441.000000   298.000000     119.000000   \n",
       "\n",
       "            rating  \n",
       "count  1887.000000  \n",
       "mean      3.618919  \n",
       "std       0.443723  \n",
       "min       1.000000  \n",
       "25%       3.300000  \n",
       "50%       3.600000  \n",
       "75%       3.900000  \n",
       "max       5.000000  "
      ]
     },
     "execution_count": 2,
     "metadata": {},
     "output_type": "execute_result"
    }
   ],
   "source": [
    "print(full_df['city'].value_counts())\n",
    "\n",
    "full_df.describe()"
   ]
  },
  {
   "attachments": {},
   "cell_type": "markdown",
   "metadata": {},
   "source": [
    "Here we see that the average `mean_income` for our dataset is $62,957.62 and that the average `median_income` is $76,992,56. We are also able to see that the top 25% of average incomes lies above $68,297.50. We'll explore the distributions below."
   ]
  },
  {
   "cell_type": "code",
   "execution_count": 3,
   "metadata": {},
   "outputs": [
    {
     "data": {
      "text/plain": [
       "Text(0.5, 0, 'Amount in Dollars')"
      ]
     },
     "execution_count": 3,
     "metadata": {},
     "output_type": "execute_result"
    },
    {
     "data": {
      "image/png": "[encoded data removed]",
      "text/plain": [
       "<Figure size 640x480 with 1 Axes>"
      ]
     },
     "metadata": {},
     "output_type": "display_data"
    }
   ],
   "source": [
    "incomes = full_df[['mean_income', 'median_income']]\n",
    "ax = sns.kdeplot(data=incomes)\n",
    "sns.despine()\n",
    "ax.set_title('Distribution of Mean and Median Income')\n",
    "ax.set_ylabel('Count')\n",
    "ax.set_xlabel('Amount in Dollars')"
   ]
  },
  {
   "cell_type": "markdown",
   "metadata": {},
   "source": [
    "After creating the above density plot, we see than `median_income` is heavily right-skewed since we have some outliers above $100,000, so we might end up not using it to compare against the ratings after all. Or, if we do, we would need to egt rid of the outliers and revisit the distribution. Our `mean_income`, however, looks pretty good for the most part -- not overly skewed to the right or left."
   ]
  },
  {
   "cell_type": "markdown",
   "metadata": {},
   "source": [
    "We'll now generate a plot of the mean income on its own."
   ]
  },
  {
   "cell_type": "code",
   "execution_count": 4,
   "metadata": {},
   "outputs": [
    {
     "data": {
      "text/plain": [
       "<AxesSubplot: xlabel='mean_income', ylabel='Count'>"
      ]
     },
     "execution_count": 4,
     "metadata": {},
     "output_type": "execute_result"
    },
    {
     "data": {
      "image/png": "[encoded data removed]",
      "text/plain": [
       "<Figure size 640x480 with 1 Axes>"
      ]
     },
     "metadata": {},
     "output_type": "display_data"
    }
   ],
   "source": [
    "sns.histplot(data=full_df, x='mean_income')"
   ]
  },
  {
   "cell_type": "markdown",
   "metadata": {},
   "source": [
    "In doing so, we see there are a couple of outliers in our data, but the distribution is pretty close to being normally distributed."
   ]
  },
  {
   "cell_type": "markdown",
   "metadata": {},
   "source": [
    "If we wanted to use the median income later on, we'll have to take a look at it's distribution, which we'll do below."
   ]
  },
  {
   "cell_type": "code",
   "execution_count": 5,
   "metadata": {},
   "outputs": [
    {
     "data": {
      "text/plain": [
       "<AxesSubplot: xlabel='median_income', ylabel='Count'>"
      ]
     },
     "execution_count": 5,
     "metadata": {},
     "output_type": "execute_result"
    },
    {
     "data": {
      "image/png": "[encoded data removed]",
      "text/plain": [
       "<Figure size 640x480 with 1 Axes>"
      ]
     },
     "metadata": {},
     "output_type": "display_data"
    }
   ],
   "source": [
    "sns.histplot(data=full_df, x='median_income', color='orange')"
   ]
  },
  {
   "cell_type": "markdown",
   "metadata": {},
   "source": [
    "For `median_income`, we can see we have quite a few outliers, so we'll get rid of those and store the data in `median_df`."
   ]
  },
  {
   "cell_type": "code",
   "execution_count": 6,
   "metadata": {},
   "outputs": [
    {
     "data": {
      "text/html": [
       "<div>\n",
       "<style scoped>\n",
       "    .dataframe tbody tr th:only-of-type {\n",
       "        vertical-align: middle;\n",
       "    }\n",
       "\n",
       "    .dataframe tbody tr th {\n",
       "        vertical-align: top;\n",
       "    }\n",
       "\n",
       "    .dataframe thead th {\n",
       "        text-align: right;\n",
       "    }\n",
       "</style>\n",
       "<table border=\"1\" class=\"dataframe\">\n",
       "  <thead>\n",
       "    <tr style=\"text-align: right;\">\n",
       "      <th></th>\n",
       "      <th>Unnamed: 0</th>\n",
       "      <th>index</th>\n",
       "      <th>latitude</th>\n",
       "      <th>longitude</th>\n",
       "      <th>mean_income</th>\n",
       "      <th>median_income</th>\n",
       "      <th>standard_deviation_income</th>\n",
       "      <th>city_count</th>\n",
       "      <th>ff_rest_count</th>\n",
       "      <th>rating</th>\n",
       "    </tr>\n",
       "  </thead>\n",
       "  <tbody>\n",
       "    <tr>\n",
       "      <th>count</th>\n",
       "      <td>32.000000</td>\n",
       "      <td>32.000000</td>\n",
       "      <td>32.000000</td>\n",
       "      <td>32.000000</td>\n",
       "      <td>32.000000</td>\n",
       "      <td>32.000000</td>\n",
       "      <td>32.000000</td>\n",
       "      <td>32.000000</td>\n",
       "      <td>32.000000</td>\n",
       "      <td>32.000000</td>\n",
       "    </tr>\n",
       "    <tr>\n",
       "      <th>mean</th>\n",
       "      <td>1337.875000</td>\n",
       "      <td>1337.875000</td>\n",
       "      <td>38.040792</td>\n",
       "      <td>-82.668589</td>\n",
       "      <td>86066.755208</td>\n",
       "      <td>171981.171875</td>\n",
       "      <td>53630.156250</td>\n",
       "      <td>2.718750</td>\n",
       "      <td>18.281250</td>\n",
       "      <td>3.715625</td>\n",
       "    </tr>\n",
       "    <tr>\n",
       "      <th>std</th>\n",
       "      <td>397.032033</td>\n",
       "      <td>397.032033</td>\n",
       "      <td>2.654698</td>\n",
       "      <td>4.779812</td>\n",
       "      <td>25091.323857</td>\n",
       "      <td>36435.436765</td>\n",
       "      <td>8737.793508</td>\n",
       "      <td>0.771859</td>\n",
       "      <td>6.769163</td>\n",
       "      <td>0.369052</td>\n",
       "    </tr>\n",
       "    <tr>\n",
       "      <th>min</th>\n",
       "      <td>796.000000</td>\n",
       "      <td>796.000000</td>\n",
       "      <td>27.878850</td>\n",
       "      <td>-97.322590</td>\n",
       "      <td>46993.500000</td>\n",
       "      <td>145654.500000</td>\n",
       "      <td>39523.000000</td>\n",
       "      <td>1.000000</td>\n",
       "      <td>15.000000</td>\n",
       "      <td>2.800000</td>\n",
       "    </tr>\n",
       "    <tr>\n",
       "      <th>25%</th>\n",
       "      <td>996.750000</td>\n",
       "      <td>996.750000</td>\n",
       "      <td>37.778975</td>\n",
       "      <td>-84.428427</td>\n",
       "      <td>53382.750000</td>\n",
       "      <td>155575.500000</td>\n",
       "      <td>42123.500000</td>\n",
       "      <td>2.000000</td>\n",
       "      <td>15.750000</td>\n",
       "      <td>3.575000</td>\n",
       "    </tr>\n",
       "    <tr>\n",
       "      <th>50%</th>\n",
       "      <td>1004.500000</td>\n",
       "      <td>1004.500000</td>\n",
       "      <td>39.270397</td>\n",
       "      <td>-84.368250</td>\n",
       "      <td>102373.333333</td>\n",
       "      <td>167430.333333</td>\n",
       "      <td>56526.000000</td>\n",
       "      <td>3.000000</td>\n",
       "      <td>16.000000</td>\n",
       "      <td>3.700000</td>\n",
       "    </tr>\n",
       "    <tr>\n",
       "      <th>75%</th>\n",
       "      <td>1597.250000</td>\n",
       "      <td>1597.250000</td>\n",
       "      <td>39.350176</td>\n",
       "      <td>-79.433022</td>\n",
       "      <td>102373.333333</td>\n",
       "      <td>167430.333333</td>\n",
       "      <td>56526.000000</td>\n",
       "      <td>3.000000</td>\n",
       "      <td>17.000000</td>\n",
       "      <td>3.900000</td>\n",
       "    </tr>\n",
       "    <tr>\n",
       "      <th>max</th>\n",
       "      <td>1909.000000</td>\n",
       "      <td>1909.000000</td>\n",
       "      <td>39.372200</td>\n",
       "      <td>-76.857860</td>\n",
       "      <td>107126.750000</td>\n",
       "      <td>300000.000000</td>\n",
       "      <td>72441.000000</td>\n",
       "      <td>4.000000</td>\n",
       "      <td>51.000000</td>\n",
       "      <td>4.900000</td>\n",
       "    </tr>\n",
       "  </tbody>\n",
       "</table>\n",
       "</div>"
      ],
      "text/plain": [
       "        Unnamed: 0        index   latitude  longitude    mean_income  \\\n",
       "count    32.000000    32.000000  32.000000  32.000000      32.000000   \n",
       "mean   1337.875000  1337.875000  38.040792 -82.668589   86066.755208   \n",
       "std     397.032033   397.032033   2.654698   4.779812   25091.323857   \n",
       "min     796.000000   796.000000  27.878850 -97.322590   46993.500000   \n",
       "25%     996.750000   996.750000  37.778975 -84.428427   53382.750000   \n",
       "50%    1004.500000  1004.500000  39.270397 -84.368250  102373.333333   \n",
       "75%    1597.250000  1597.250000  39.350176 -79.433022  102373.333333   \n",
       "max    1909.000000  1909.000000  39.372200 -76.857860  107126.750000   \n",
       "\n",
       "       median_income  standard_deviation_income  city_count  ff_rest_count  \\\n",
       "count      32.000000                  32.000000   32.000000      32.000000   \n",
       "mean   171981.171875               53630.156250    2.718750      18.281250   \n",
       "std     36435.436765                8737.793508    0.771859       6.769163   \n",
       "min    145654.500000               39523.000000    1.000000      15.000000   \n",
       "25%    155575.500000               42123.500000    2.000000      15.750000   \n",
       "50%    167430.333333               56526.000000    3.000000      16.000000   \n",
       "75%    167430.333333               56526.000000    3.000000      17.000000   \n",
       "max    300000.000000               72441.000000    4.000000      51.000000   \n",
       "\n",
       "          rating  \n",
       "count  32.000000  \n",
       "mean    3.715625  \n",
       "std     0.369052  \n",
       "min     2.800000  \n",
       "25%     3.575000  \n",
       "50%     3.700000  \n",
       "75%     3.900000  \n",
       "max     4.900000  "
      ]
     },
     "execution_count": 6,
     "metadata": {},
     "output_type": "execute_result"
    }
   ],
   "source": [
    "median_outliers = full_df[full_df['median_income'] > 140000]\n",
    "median_outliers.describe()"
   ]
  },
  {
   "cell_type": "code",
   "execution_count": 7,
   "metadata": {},
   "outputs": [
    {
     "name": "stdout",
     "output_type": "stream",
     "text": [
      "Dropped 32 outliers\n"
     ]
    },
    {
     "data": {
      "image/png": "[encoded data removed]",
      "text/plain": [
       "<Figure size 640x480 with 1 Axes>"
      ]
     },
     "metadata": {},
     "output_type": "display_data"
    }
   ],
   "source": [
    "median_df = full_df.drop(median_outliers['index'].keys()).reset_index(drop=True)\n",
    "sns.histplot(data=median_df, x='median_income', color='orange')\n",
    "print(f\"Dropped {len(median_outliers)} outliers\")"
   ]
  },
  {
   "attachments": {},
   "cell_type": "markdown",
   "metadata": {},
   "source": [
    "With the 32 outliers with median incomes above $140,000 dropped, we see that our data looks more normally distributed. "
   ]
  },
  {
   "cell_type": "markdown",
   "metadata": {},
   "source": [
    "## Exploring Average Ratings from Top 25th Percentile and Bottom 25th Percentile\n",
    "\n",
    "In our hypothesis, we predicted that fast food restaurants in areas with a higher average income will have a lower rating than those in areas with lower average incomes. We will consider \"higher\" average income to be cities whose average income falls within the upper quartile of our dataset, meaning their mean income is greater than or equal to `$68,297.50`. To help us get a visual and to further understand our distributions, we will split our `full_df` into two smaller dataframes: `higher_avg_income` will consist of restaurants that are from cities whose mean income is greater than or equal to `$68,297.50` and `lower_avg_income` consists of those equal to or below that value of $56501.53 or the bottom 25th percentile."
   ]
  },
  {
   "cell_type": "code",
   "execution_count": 8,
   "metadata": {},
   "outputs": [],
   "source": [
    "higher_avg_income = full_df[full_df['mean_income'] >= 68297.500000].dropna()\n",
    "lower_avg_income = full_df[full_df['mean_income'] <= 56694.954545].dropna()"
   ]
  },
  {
   "cell_type": "code",
   "execution_count": 9,
   "metadata": {},
   "outputs": [
    {
     "data": {
      "text/html": [
       "<div>\n",
       "<style scoped>\n",
       "    .dataframe tbody tr th:only-of-type {\n",
       "        vertical-align: middle;\n",
       "    }\n",
       "\n",
       "    .dataframe tbody tr th {\n",
       "        vertical-align: top;\n",
       "    }\n",
       "\n",
       "    .dataframe thead th {\n",
       "        text-align: right;\n",
       "    }\n",
       "</style>\n",
       "<table border=\"1\" class=\"dataframe\">\n",
       "  <thead>\n",
       "    <tr style=\"text-align: right;\">\n",
       "      <th></th>\n",
       "      <th>Unnamed: 0</th>\n",
       "      <th>index</th>\n",
       "      <th>latitude</th>\n",
       "      <th>longitude</th>\n",
       "      <th>mean_income</th>\n",
       "      <th>median_income</th>\n",
       "      <th>standard_deviation_income</th>\n",
       "      <th>city_count</th>\n",
       "      <th>ff_rest_count</th>\n",
       "      <th>rating</th>\n",
       "    </tr>\n",
       "  </thead>\n",
       "  <tbody>\n",
       "    <tr>\n",
       "      <th>count</th>\n",
       "      <td>515.000000</td>\n",
       "      <td>515.000000</td>\n",
       "      <td>515.000000</td>\n",
       "      <td>515.000000</td>\n",
       "      <td>515.000000</td>\n",
       "      <td>515.000000</td>\n",
       "      <td>515.000000</td>\n",
       "      <td>515.000000</td>\n",
       "      <td>515.000000</td>\n",
       "      <td>515.000000</td>\n",
       "    </tr>\n",
       "    <tr>\n",
       "      <th>mean</th>\n",
       "      <td>1067.743689</td>\n",
       "      <td>1067.743689</td>\n",
       "      <td>37.416093</td>\n",
       "      <td>-98.775598</td>\n",
       "      <td>76992.961571</td>\n",
       "      <td>97222.256590</td>\n",
       "      <td>53468.334091</td>\n",
       "      <td>80.693204</td>\n",
       "      <td>33.650485</td>\n",
       "      <td>3.583689</td>\n",
       "    </tr>\n",
       "    <tr>\n",
       "      <th>std</th>\n",
       "      <td>471.029339</td>\n",
       "      <td>471.029339</td>\n",
       "      <td>6.311990</td>\n",
       "      <td>18.144941</td>\n",
       "      <td>9160.039464</td>\n",
       "      <td>23212.147105</td>\n",
       "      <td>5074.635467</td>\n",
       "      <td>64.150018</td>\n",
       "      <td>14.153074</td>\n",
       "      <td>0.456903</td>\n",
       "    </tr>\n",
       "    <tr>\n",
       "      <th>min</th>\n",
       "      <td>145.000000</td>\n",
       "      <td>145.000000</td>\n",
       "      <td>21.278965</td>\n",
       "      <td>-157.930853</td>\n",
       "      <td>68297.500000</td>\n",
       "      <td>49701.000000</td>\n",
       "      <td>43852.000000</td>\n",
       "      <td>1.000000</td>\n",
       "      <td>15.000000</td>\n",
       "      <td>1.000000</td>\n",
       "    </tr>\n",
       "    <tr>\n",
       "      <th>25%</th>\n",
       "      <td>866.500000</td>\n",
       "      <td>866.500000</td>\n",
       "      <td>32.770801</td>\n",
       "      <td>-111.832805</td>\n",
       "      <td>68991.285714</td>\n",
       "      <td>80527.492754</td>\n",
       "      <td>50253.773585</td>\n",
       "      <td>35.000000</td>\n",
       "      <td>21.000000</td>\n",
       "      <td>3.300000</td>\n",
       "    </tr>\n",
       "    <tr>\n",
       "      <th>50%</th>\n",
       "      <td>1000.000000</td>\n",
       "      <td>1000.000000</td>\n",
       "      <td>39.349340</td>\n",
       "      <td>-95.557600</td>\n",
       "      <td>74163.734375</td>\n",
       "      <td>93715.716981</td>\n",
       "      <td>53221.718750</td>\n",
       "      <td>64.000000</td>\n",
       "      <td>30.000000</td>\n",
       "      <td>3.600000</td>\n",
       "    </tr>\n",
       "    <tr>\n",
       "      <th>75%</th>\n",
       "      <td>1262.500000</td>\n",
       "      <td>1262.500000</td>\n",
       "      <td>41.185007</td>\n",
       "      <td>-84.458480</td>\n",
       "      <td>84613.951220</td>\n",
       "      <td>105993.000000</td>\n",
       "      <td>56526.000000</td>\n",
       "      <td>103.000000</td>\n",
       "      <td>38.000000</td>\n",
       "      <td>3.900000</td>\n",
       "    </tr>\n",
       "    <tr>\n",
       "      <th>max</th>\n",
       "      <td>1909.000000</td>\n",
       "      <td>1909.000000</td>\n",
       "      <td>47.732912</td>\n",
       "      <td>-73.925700</td>\n",
       "      <td>107126.750000</td>\n",
       "      <td>300000.000000</td>\n",
       "      <td>72441.000000</td>\n",
       "      <td>224.000000</td>\n",
       "      <td>62.000000</td>\n",
       "      <td>5.000000</td>\n",
       "    </tr>\n",
       "  </tbody>\n",
       "</table>\n",
       "</div>"
      ],
      "text/plain": [
       "        Unnamed: 0        index    latitude   longitude    mean_income  \\\n",
       "count   515.000000   515.000000  515.000000  515.000000     515.000000   \n",
       "mean   1067.743689  1067.743689   37.416093  -98.775598   76992.961571   \n",
       "std     471.029339   471.029339    6.311990   18.144941    9160.039464   \n",
       "min     145.000000   145.000000   21.278965 -157.930853   68297.500000   \n",
       "25%     866.500000   866.500000   32.770801 -111.832805   68991.285714   \n",
       "50%    1000.000000  1000.000000   39.349340  -95.557600   74163.734375   \n",
       "75%    1262.500000  1262.500000   41.185007  -84.458480   84613.951220   \n",
       "max    1909.000000  1909.000000   47.732912  -73.925700  107126.750000   \n",
       "\n",
       "       median_income  standard_deviation_income  city_count  ff_rest_count  \\\n",
       "count     515.000000                 515.000000  515.000000     515.000000   \n",
       "mean    97222.256590               53468.334091   80.693204      33.650485   \n",
       "std     23212.147105                5074.635467   64.150018      14.153074   \n",
       "min     49701.000000               43852.000000    1.000000      15.000000   \n",
       "25%     80527.492754               50253.773585   35.000000      21.000000   \n",
       "50%     93715.716981               53221.718750   64.000000      30.000000   \n",
       "75%    105993.000000               56526.000000  103.000000      38.000000   \n",
       "max    300000.000000               72441.000000  224.000000      62.000000   \n",
       "\n",
       "           rating  \n",
       "count  515.000000  \n",
       "mean     3.583689  \n",
       "std      0.456903  \n",
       "min      1.000000  \n",
       "25%      3.300000  \n",
       "50%      3.600000  \n",
       "75%      3.900000  \n",
       "max      5.000000  "
      ]
     },
     "execution_count": 9,
     "metadata": {},
     "output_type": "execute_result"
    }
   ],
   "source": [
    "higher_avg_income.describe()"
   ]
  },
  {
   "cell_type": "code",
   "execution_count": 10,
   "metadata": {},
   "outputs": [
    {
     "data": {
      "text/html": [
       "<div>\n",
       "<style scoped>\n",
       "    .dataframe tbody tr th:only-of-type {\n",
       "        vertical-align: middle;\n",
       "    }\n",
       "\n",
       "    .dataframe tbody tr th {\n",
       "        vertical-align: top;\n",
       "    }\n",
       "\n",
       "    .dataframe thead th {\n",
       "        text-align: right;\n",
       "    }\n",
       "</style>\n",
       "<table border=\"1\" class=\"dataframe\">\n",
       "  <thead>\n",
       "    <tr style=\"text-align: right;\">\n",
       "      <th></th>\n",
       "      <th>Unnamed: 0</th>\n",
       "      <th>index</th>\n",
       "      <th>latitude</th>\n",
       "      <th>longitude</th>\n",
       "      <th>mean_income</th>\n",
       "      <th>median_income</th>\n",
       "      <th>standard_deviation_income</th>\n",
       "      <th>city_count</th>\n",
       "      <th>ff_rest_count</th>\n",
       "      <th>rating</th>\n",
       "    </tr>\n",
       "  </thead>\n",
       "  <tbody>\n",
       "    <tr>\n",
       "      <th>count</th>\n",
       "      <td>456.000000</td>\n",
       "      <td>456.000000</td>\n",
       "      <td>456.000000</td>\n",
       "      <td>456.000000</td>\n",
       "      <td>456.000000</td>\n",
       "      <td>456.000000</td>\n",
       "      <td>456.000000</td>\n",
       "      <td>456.000000</td>\n",
       "      <td>456.000000</td>\n",
       "      <td>456.000000</td>\n",
       "    </tr>\n",
       "    <tr>\n",
       "      <th>mean</th>\n",
       "      <td>883.377193</td>\n",
       "      <td>883.377193</td>\n",
       "      <td>37.386808</td>\n",
       "      <td>-87.274609</td>\n",
       "      <td>47906.715782</td>\n",
       "      <td>54705.006872</td>\n",
       "      <td>37984.457714</td>\n",
       "      <td>50.975877</td>\n",
       "      <td>24.021930</td>\n",
       "      <td>3.589474</td>\n",
       "    </tr>\n",
       "    <tr>\n",
       "      <th>std</th>\n",
       "      <td>556.657653</td>\n",
       "      <td>556.657653</td>\n",
       "      <td>4.260473</td>\n",
       "      <td>8.424677</td>\n",
       "      <td>6369.142460</td>\n",
       "      <td>21637.179314</td>\n",
       "      <td>4291.600476</td>\n",
       "      <td>47.269783</td>\n",
       "      <td>8.838201</td>\n",
       "      <td>0.438803</td>\n",
       "    </tr>\n",
       "    <tr>\n",
       "      <th>min</th>\n",
       "      <td>23.000000</td>\n",
       "      <td>23.000000</td>\n",
       "      <td>25.822960</td>\n",
       "      <td>-114.154400</td>\n",
       "      <td>27360.000000</td>\n",
       "      <td>18467.000000</td>\n",
       "      <td>17933.000000</td>\n",
       "      <td>1.000000</td>\n",
       "      <td>15.000000</td>\n",
       "      <td>1.800000</td>\n",
       "    </tr>\n",
       "    <tr>\n",
       "      <th>25%</th>\n",
       "      <td>303.750000</td>\n",
       "      <td>303.750000</td>\n",
       "      <td>35.123493</td>\n",
       "      <td>-90.716037</td>\n",
       "      <td>44200.484375</td>\n",
       "      <td>42254.000000</td>\n",
       "      <td>36364.714286</td>\n",
       "      <td>9.000000</td>\n",
       "      <td>19.000000</td>\n",
       "      <td>3.300000</td>\n",
       "    </tr>\n",
       "    <tr>\n",
       "      <th>50%</th>\n",
       "      <td>829.500000</td>\n",
       "      <td>829.500000</td>\n",
       "      <td>38.038540</td>\n",
       "      <td>-86.122984</td>\n",
       "      <td>49594.095238</td>\n",
       "      <td>55443.000000</td>\n",
       "      <td>38552.000000</td>\n",
       "      <td>36.000000</td>\n",
       "      <td>21.000000</td>\n",
       "      <td>3.600000</td>\n",
       "    </tr>\n",
       "    <tr>\n",
       "      <th>75%</th>\n",
       "      <td>1465.250000</td>\n",
       "      <td>1465.250000</td>\n",
       "      <td>40.196126</td>\n",
       "      <td>-81.667373</td>\n",
       "      <td>51472.000000</td>\n",
       "      <td>60883.583333</td>\n",
       "      <td>40532.053691</td>\n",
       "      <td>69.750000</td>\n",
       "      <td>26.000000</td>\n",
       "      <td>3.900000</td>\n",
       "    </tr>\n",
       "    <tr>\n",
       "      <th>max</th>\n",
       "      <td>1907.000000</td>\n",
       "      <td>1907.000000</td>\n",
       "      <td>46.218350</td>\n",
       "      <td>-73.823600</td>\n",
       "      <td>56598.777778</td>\n",
       "      <td>169513.500000</td>\n",
       "      <td>54643.000000</td>\n",
       "      <td>174.000000</td>\n",
       "      <td>65.000000</td>\n",
       "      <td>5.000000</td>\n",
       "    </tr>\n",
       "  </tbody>\n",
       "</table>\n",
       "</div>"
      ],
      "text/plain": [
       "        Unnamed: 0        index    latitude   longitude   mean_income  \\\n",
       "count   456.000000   456.000000  456.000000  456.000000    456.000000   \n",
       "mean    883.377193   883.377193   37.386808  -87.274609  47906.715782   \n",
       "std     556.657653   556.657653    4.260473    8.424677   6369.142460   \n",
       "min      23.000000    23.000000   25.822960 -114.154400  27360.000000   \n",
       "25%     303.750000   303.750000   35.123493  -90.716037  44200.484375   \n",
       "50%     829.500000   829.500000   38.038540  -86.122984  49594.095238   \n",
       "75%    1465.250000  1465.250000   40.196126  -81.667373  51472.000000   \n",
       "max    1907.000000  1907.000000   46.218350  -73.823600  56598.777778   \n",
       "\n",
       "       median_income  standard_deviation_income  city_count  ff_rest_count  \\\n",
       "count     456.000000                 456.000000  456.000000     456.000000   \n",
       "mean    54705.006872               37984.457714   50.975877      24.021930   \n",
       "std     21637.179314                4291.600476   47.269783       8.838201   \n",
       "min     18467.000000               17933.000000    1.000000      15.000000   \n",
       "25%     42254.000000               36364.714286    9.000000      19.000000   \n",
       "50%     55443.000000               38552.000000   36.000000      21.000000   \n",
       "75%     60883.583333               40532.053691   69.750000      26.000000   \n",
       "max    169513.500000               54643.000000  174.000000      65.000000   \n",
       "\n",
       "           rating  \n",
       "count  456.000000  \n",
       "mean     3.589474  \n",
       "std      0.438803  \n",
       "min      1.800000  \n",
       "25%      3.300000  \n",
       "50%      3.600000  \n",
       "75%      3.900000  \n",
       "max      5.000000  "
      ]
     },
     "execution_count": 10,
     "metadata": {},
     "output_type": "execute_result"
    }
   ],
   "source": [
    "lower_avg_income.describe()"
   ]
  },
  {
   "attachments": {},
   "cell_type": "markdown",
   "metadata": {},
   "source": [
    "After splitting up our dataset, we see that we have 515 restaurants that are located in cities above or equal to the dataset's upper quartile for average income and 456 restaurants in cities below that value. Another interesting point to note is that the average rating in `higher_avg_income` is 3.58, whereas in `lower_avg_income` that value is 3.59. Just going off of that, it seems as though our hypothesis might NOT be supported by the data, but it's a little too early to tell for sure."
   ]
  },
  {
   "cell_type": "markdown",
   "metadata": {},
   "source": [
    "## Ratings with Mean Income\n",
    "\n",
    "Before continuing on with our analysis with the income, it would also be nice to see the distribution of the ratings to understand the shape of that data."
   ]
  },
  {
   "cell_type": "code",
   "execution_count": 11,
   "metadata": {},
   "outputs": [
    {
     "data": {
      "text/plain": [
       "<AxesSubplot: xlabel='rating', ylabel='Count'>"
      ]
     },
     "execution_count": 11,
     "metadata": {},
     "output_type": "execute_result"
    },
    {
     "data": {
      "image/png": "[encoded data removed]",
      "text/plain": [
       "<Figure size 640x480 with 1 Axes>"
      ]
     },
     "metadata": {},
     "output_type": "display_data"
    }
   ],
   "source": [
    "sns.histplot(data=full_df, x='rating', bins=40)"
   ]
  },
  {
   "cell_type": "code",
   "execution_count": 12,
   "metadata": {},
   "outputs": [
    {
     "data": {
      "text/plain": [
       "<matplotlib.legend.Legend at 0x1caa9d96b30>"
      ]
     },
     "execution_count": 12,
     "metadata": {},
     "output_type": "execute_result"
    },
    {
     "data": {
      "image/png": "[encoded data removed]",
      "text/plain": [
       "<Figure size 640x480 with 1 Axes>"
      ]
     },
     "metadata": {},
     "output_type": "display_data"
    }
   ],
   "source": [
    "ax = sns.histplot(data=higher_avg_income, x='rating', color='green',bins=40, label='higher avg income')\n",
    "ax = sns.histplot(data=lower_avg_income, x='rating', color='pink', bins=40, label='lower avg income')\n",
    "\n",
    "ax.legend()"
   ]
  },
  {
   "cell_type": "markdown",
   "metadata": {},
   "source": [
    "Since we have different total count data in lower and higher income brackets, it would be more accurate to visualize the data using propotions."
   ]
  },
  {
   "cell_type": "code",
   "execution_count": 13,
   "metadata": {},
   "outputs": [
    {
     "data": {
      "text/plain": [
       "<matplotlib.legend.Legend at 0x1caa9be66b0>"
      ]
     },
     "execution_count": 13,
     "metadata": {},
     "output_type": "execute_result"
    },
    {
     "data": {
      "image/png": "[encoded data removed]",
      "text/plain": [
       "<Figure size 640x480 with 1 Axes>"
      ]
     },
     "metadata": {},
     "output_type": "display_data"
    }
   ],
   "source": [
    "higher_avg_income['rating_prop'] = higher_avg_income['rating']/sum(higher_avg_income['rating'])\n",
    "lower_avg_income['rating_prop'] = lower_avg_income['rating']/sum(lower_avg_income['rating'])\n",
    "\n",
    "ax = sns.histplot(data=higher_avg_income, x='rating', color='green',bins=40, label='higher avg income', stat=\"proportion\")\n",
    "ax = sns.histplot(data=lower_avg_income, x='rating', color='pink', bins=40, label='lower avg income', stat=\"proportion\")\n",
    "\n",
    "ax.legend()"
   ]
  },
  {
   "cell_type": "markdown",
   "metadata": {},
   "source": [
    "While the above graphs are interesting because we see the histogram for the lower average income dataframe have a relatively similar shape to that of the ratings histogram for the full dataset, we can't take this at face value because we also need to account for the fact that we don't have the same number of entries in `higher_avg_income` as we do in `lower_avg_income`. We can also see that we have a couple outliers on the lower end of the spectrum in both our dataframes.\n",
    "\n",
    "We'll identify and get rid of the outliers before moving on to anything else."
   ]
  },
  {
   "cell_type": "code",
   "execution_count": 14,
   "metadata": {},
   "outputs": [
    {
     "data": {
      "text/html": [
       "<div>\n",
       "<style scoped>\n",
       "    .dataframe tbody tr th:only-of-type {\n",
       "        vertical-align: middle;\n",
       "    }\n",
       "\n",
       "    .dataframe tbody tr th {\n",
       "        vertical-align: top;\n",
       "    }\n",
       "\n",
       "    .dataframe thead th {\n",
       "        text-align: right;\n",
       "    }\n",
       "</style>\n",
       "<table border=\"1\" class=\"dataframe\">\n",
       "  <thead>\n",
       "    <tr style=\"text-align: right;\">\n",
       "      <th></th>\n",
       "      <th>Unnamed: 0</th>\n",
       "      <th>index</th>\n",
       "      <th>name</th>\n",
       "      <th>city</th>\n",
       "      <th>state_ab</th>\n",
       "      <th>address</th>\n",
       "      <th>postal_code</th>\n",
       "      <th>latitude</th>\n",
       "      <th>longitude</th>\n",
       "      <th>state_name_x</th>\n",
       "      <th>mean_income</th>\n",
       "      <th>median_income</th>\n",
       "      <th>standard_deviation_income</th>\n",
       "      <th>city_count</th>\n",
       "      <th>state_name_y</th>\n",
       "      <th>ff_rest_count</th>\n",
       "      <th>text_input</th>\n",
       "      <th>rating</th>\n",
       "    </tr>\n",
       "  </thead>\n",
       "  <tbody>\n",
       "    <tr>\n",
       "      <th>1235</th>\n",
       "      <td>1250</td>\n",
       "      <td>1250</td>\n",
       "      <td>Pizza Hut</td>\n",
       "      <td>Atlanta</td>\n",
       "      <td>GA</td>\n",
       "      <td>2090 Dunwoody Club Dr</td>\n",
       "      <td>30350</td>\n",
       "      <td>33.960437</td>\n",
       "      <td>-84.300962</td>\n",
       "      <td>Georgia</td>\n",
       "      <td>76480.661290</td>\n",
       "      <td>74091.500000</td>\n",
       "      <td>55154.629032</td>\n",
       "      <td>62</td>\n",
       "      <td>Georgia</td>\n",
       "      <td>38</td>\n",
       "      <td>Pizza%20Hut%20Atlanta%20GA%20%202090%20Dunwood...</td>\n",
       "      <td>1.0</td>\n",
       "    </tr>\n",
       "    <tr>\n",
       "      <th>1307</th>\n",
       "      <td>1322</td>\n",
       "      <td>1322</td>\n",
       "      <td>Dominos Pizza</td>\n",
       "      <td>Las Vegas</td>\n",
       "      <td>NV</td>\n",
       "      <td>6375 S Pecos Rd</td>\n",
       "      <td>89120</td>\n",
       "      <td>36.074010</td>\n",
       "      <td>-115.101580</td>\n",
       "      <td>Nevada</td>\n",
       "      <td>62934.269231</td>\n",
       "      <td>86190.176923</td>\n",
       "      <td>43015.392308</td>\n",
       "      <td>130</td>\n",
       "      <td>Nevada</td>\n",
       "      <td>65</td>\n",
       "      <td>Dominos%20Pizza%20Las Vegas%20NV%20%206375%20S...</td>\n",
       "      <td>1.4</td>\n",
       "    </tr>\n",
       "    <tr>\n",
       "      <th>1703</th>\n",
       "      <td>1722</td>\n",
       "      <td>1722</td>\n",
       "      <td>Pizza Hut</td>\n",
       "      <td>Los Angeles</td>\n",
       "      <td>CA</td>\n",
       "      <td>12460 Venice Blvd</td>\n",
       "      <td>90066</td>\n",
       "      <td>34.002970</td>\n",
       "      <td>-118.434440</td>\n",
       "      <td>California</td>\n",
       "      <td>61724.557018</td>\n",
       "      <td>73435.833333</td>\n",
       "      <td>48167.978070</td>\n",
       "      <td>228</td>\n",
       "      <td>California</td>\n",
       "      <td>33</td>\n",
       "      <td>Pizza%20Hut%20Los Angeles%20CA%20%2012460%20Ve...</td>\n",
       "      <td>1.0</td>\n",
       "    </tr>\n",
       "  </tbody>\n",
       "</table>\n",
       "</div>"
      ],
      "text/plain": [
       "      Unnamed: 0  index           name         city state_ab  \\\n",
       "1235        1250   1250      Pizza Hut      Atlanta       GA   \n",
       "1307        1322   1322  Dominos Pizza    Las Vegas       NV   \n",
       "1703        1722   1722      Pizza Hut  Los Angeles       CA   \n",
       "\n",
       "                    address postal_code   latitude   longitude state_name_x  \\\n",
       "1235  2090 Dunwoody Club Dr       30350  33.960437  -84.300962      Georgia   \n",
       "1307        6375 S Pecos Rd       89120  36.074010 -115.101580       Nevada   \n",
       "1703      12460 Venice Blvd       90066  34.002970 -118.434440   California   \n",
       "\n",
       "       mean_income  median_income  standard_deviation_income  city_count  \\\n",
       "1235  76480.661290   74091.500000               55154.629032          62   \n",
       "1307  62934.269231   86190.176923               43015.392308         130   \n",
       "1703  61724.557018   73435.833333               48167.978070         228   \n",
       "\n",
       "     state_name_y  ff_rest_count  \\\n",
       "1235      Georgia             38   \n",
       "1307       Nevada             65   \n",
       "1703   California             33   \n",
       "\n",
       "                                             text_input  rating  \n",
       "1235  Pizza%20Hut%20Atlanta%20GA%20%202090%20Dunwood...     1.0  \n",
       "1307  Dominos%20Pizza%20Las Vegas%20NV%20%206375%20S...     1.4  \n",
       "1703  Pizza%20Hut%20Los Angeles%20CA%20%2012460%20Ve...     1.0  "
      ]
     },
     "execution_count": 14,
     "metadata": {},
     "output_type": "execute_result"
    }
   ],
   "source": [
    "outliers = full_df[full_df['rating'] < 1.5]\n",
    "outliers"
   ]
  },
  {
   "cell_type": "code",
   "execution_count": 15,
   "metadata": {},
   "outputs": [],
   "source": [
    "ratings_df = full_df.drop(outliers['index'].keys()).reset_index(drop=True)"
   ]
  },
  {
   "cell_type": "markdown",
   "metadata": {},
   "source": [
    "To drop the outliers, we got rid of any entries that had a rating less than 1.5, for a total of 3 restaurants dropped without having a large affect on our dataset."
   ]
  },
  {
   "cell_type": "code",
   "execution_count": 16,
   "metadata": {},
   "outputs": [
    {
     "data": {
      "text/plain": [
       "<AxesSubplot: xlabel='rating', ylabel='Count'>"
      ]
     },
     "execution_count": 16,
     "metadata": {},
     "output_type": "execute_result"
    },
    {
     "data": {
      "image/png": "[encoded data removed]",
      "text/plain": [
       "<Figure size 640x480 with 1 Axes>"
      ]
     },
     "metadata": {},
     "output_type": "display_data"
    }
   ],
   "source": [
    "sns.histplot(data=ratings_df, x='rating', bins=40)"
   ]
  },
  {
   "cell_type": "markdown",
   "metadata": {},
   "source": [
    "With the outliers dropped, we are able to generate the above graph and see that the distribution for the ratings has become closer to being normally distributed. Here we can begin comparing the two mean distributions of the higher income and lower income by using a ttest."
   ]
  },
  {
   "cell_type": "code",
   "execution_count": 17,
   "metadata": {},
   "outputs": [
    {
     "data": {
      "text/plain": [
       "0.8410739703717939"
      ]
     },
     "execution_count": 17,
     "metadata": {},
     "output_type": "execute_result"
    }
   ],
   "source": [
    "t_test = ttest_ind(lower_avg_income['rating'], higher_avg_income['rating'])\n",
    "\n",
    "t_test.pvalue"
   ]
  },
  {
   "cell_type": "code",
   "execution_count": 18,
   "metadata": {},
   "outputs": [
    {
     "data": {
      "text/plain": [
       "Text(0.5, 0, 'ratings')"
      ]
     },
     "execution_count": 18,
     "metadata": {},
     "output_type": "execute_result"
    },
    {
     "data": {
      "image/png": "[encoded data removed]",
      "text/plain": [
       "<Figure size 640x480 with 1 Axes>"
      ]
     },
     "metadata": {},
     "output_type": "display_data"
    }
   ],
   "source": [
    "rating_boxplot = sns.boxplot(pd.DataFrame({'Low avg income': lower_avg_income['rating'], 'High avg income': higher_avg_income['rating']}), orient='h')\n",
    "rating_boxplot.set_xlabel('ratings')"
   ]
  },
  {
   "attachments": {},
   "cell_type": "markdown",
   "metadata": {},
   "source": [
    "Since the p-value of 0.841 > 0.05, we to fail reject the null hypothesis and the data suggest that there is NOT a significant difference between the rating and the income. We will continue our analyisis with linear regression before arriving to our final decision."
   ]
  },
  {
   "cell_type": "markdown",
   "metadata": {},
   "source": [
    "## Inferential Analysis with Mean Income\n",
    "\n",
    "Now that we have seen the distribution for both our variables of interest on their own (`mean_income` and `ratings`), it's time to carry out the inferential analysis.\n",
    "\n",
    "We'll start by plotting the relationship between mean income and ratings."
   ]
  },
  {
   "cell_type": "code",
   "execution_count": 19,
   "metadata": {},
   "outputs": [
    {
     "data": {
      "text/plain": [
       "<seaborn.axisgrid.FacetGrid at 0x1caa8891ab0>"
      ]
     },
     "execution_count": 19,
     "metadata": {},
     "output_type": "execute_result"
    },
    {
     "data": {
      "image/png": "[encoded data removed]",
      "text/plain": [
       "<Figure size 1020x600 with 1 Axes>"
      ]
     },
     "metadata": {},
     "output_type": "display_data"
    }
   ],
   "source": [
    "sns.lmplot(data=ratings_df, x='mean_income', y='rating', fit_reg = True, height=6, aspect=1.7, line_kws={'color':'#30E5AC'}, scatter_kws={'color':'#30E5AC'})"
   ]
  },
  {
   "cell_type": "markdown",
   "metadata": {},
   "source": [
    "Looking at the above plot, it appears that there is a slightly negative relationship between mean income and rating, though it is a little hard to say."
   ]
  },
  {
   "cell_type": "code",
   "execution_count": 20,
   "metadata": {},
   "outputs": [
    {
     "name": "stdout",
     "output_type": "stream",
     "text": [
      "                            OLS Regression Results                            \n",
      "==============================================================================\n",
      "Dep. Variable:                 rating   R-squared:                       0.000\n",
      "Model:                            OLS   Adj. R-squared:                 -0.000\n",
      "Method:                 Least Squares   F-statistic:                   0.08527\n",
      "Date:                Thu, 08 Dec 2022   Prob (F-statistic):              0.770\n",
      "Time:                        17:04:06   Log-Likelihood:                -1143.7\n",
      "No. Observations:                1887   AIC:                             2291.\n",
      "Df Residuals:                    1885   BIC:                             2302.\n",
      "Df Model:                           1                                         \n",
      "Covariance Type:            nonrobust                                         \n",
      "===============================================================================\n",
      "                  coef    std err          t      P>|t|      [0.025      0.975]\n",
      "-------------------------------------------------------------------------------\n",
      "Intercept       3.6033      0.055     66.115      0.000       3.496       3.710\n",
      "mean_income  2.483e-07    8.5e-07      0.292      0.770   -1.42e-06    1.92e-06\n",
      "==============================================================================\n",
      "Omnibus:                      161.603   Durbin-Watson:                   1.834\n",
      "Prob(Omnibus):                  0.000   Jarque-Bera (JB):              421.575\n",
      "Skew:                          -0.478   Prob(JB):                     2.86e-92\n",
      "Kurtosis:                       5.109   Cond. No.                     3.42e+05\n",
      "==============================================================================\n",
      "\n",
      "Notes:\n",
      "[1] Standard Errors assume that the covariance matrix of the errors is correctly specified.\n",
      "[2] The condition number is large, 3.42e+05. This might indicate that there are\n",
      "strong multicollinearity or other numerical problems.\n"
     ]
    }
   ],
   "source": [
    "outcome_mean, predictors_mean = patsy.dmatrices('rating ~ mean_income', full_df)\n",
    "\n",
    "mod_log = sm.OLS(outcome_mean, predictors_mean)\n",
    "res_log = mod_log.fit()\n",
    "print(res_log.summary())"
   ]
  },
  {
   "cell_type": "markdown",
   "metadata": {},
   "source": [
    "# Ethics & Privacy"
   ]
  },
  {
   "cell_type": "markdown",
   "metadata": {},
   "source": [
    "Some of the ethical issues that could arise from our project come from data collection.\n",
    "\n",
    "There has been previous research about fast food restaurant density being higher within lower income areas as opposed to higher income areas. This could create a sample bias within our data that overrepresents lower income cities compared to higher income cities. Our fast food location data is also only as reliable as Datafiniti is, and as up to date as when they collected it. This means that our analysis wouldn't necessarily be applicable today and can only be applicable assuming this trend holds.\n",
    "\n",
    "There could also potentially be issues merging datasets with fast food restaurant info and household income info. If household income data in a specific city doesn't have a lot of sample sizes, the average household info in that city can be misrepresented. \n",
    "\n",
    "Along the same line, if there is a lot of data for fast food restaurants in one city but not a lot for income data and vice versa, analyses could end up being biased. To account for this issue, we only kept data for cities that had at least 15 restaurants. \n",
    "\n",
    "Similarly, when doing our EDA, we saw that our data didn’t accurately represent the income levels in the United States. To try and accurately represent income groups and hopefully account for misrepresentation, we split up our data using the average income of our dataset, rather than based on US income class data. However, in the process of our splitting the data, it is possible that we created a problem that wouldn’t allow for equitable analysis. To combat this, we then used proportions in the split datasets. \n",
    "There is also a large issue with collecting fast food rating data in a practical manner. Ratings of fast food restaurants within cities can be distributed very unevenly across websites. Since Google Reviews typically had more reviews that Yelp, we went with Google Reviews to collect our average review information for each restaurant. However, we also wanted to ensure that we would be able to use a restaurant and it’s rating, so in the case of localized fast food chains, we threw those out because they weren’t comparable across cities within America. Additionally, we got rid of restaurants that had either no review or a 0.0 rating to make sure they didn’t skew the data. This could have possibly affected our analysis, but we made sure to look those restaurants up by-hand and about 99% of the time, those restaurants had gone out of business and thus their ratings shouldn’t have been included anyway. \n",
    "\n",
    "Aside from issues with the collection of data, there is another issue that raises a relatively large ethical concern. Since our hypothesis states that we believe cities with lower average income will have higher reviews for fast food restaurants than those with higher average incomes, it is entirely possible that our analysis could be misconstrued as trying to determine if people with lower income having poor taste rather than determining if lower average income correlates to higher average reviews. Though unlikely, people could then take that idea with them when thinking about all types of restaurants and apply this bias in that situation, which would take the analysis far out of its scope and thus unintentionally bias another project. \n",
    "\n",
    "In terms of privacy, we didn’t really have any concerns. As our restaurant review data was collected from Google Maps with an API, we were able to specify that we only wanted the value of the review and none of the information about any of the reviewers, we don’t have any privacy concerns from that end. Additionally, our data concerning restaurant locations and city income also do not specify any single person, meaning that we don’t really have any privacy concerns with this project.\n"
   ]
  },
  {
   "cell_type": "markdown",
   "metadata": {},
   "source": [
    "# Conclusion & Discussion"
   ]
  },
  {
   "attachments": {},
   "cell_type": "markdown",
   "metadata": {},
   "source": [
    "Based off the results of our t-tests and linear regression results, we lack a strong foundation to support our hypothesis - i.e. there is no strong correlation between the average household income of a cities and the average ratings of fast food restaurants within those cities. Our t-test had too large of a p-value and the slope of our Linear Regression was a very slight negative, meaning not only was unlikely for there to be a correlation but if there were, they would be only a slight correlation.\n",
    "\n",
    "Some noteworthy nuances to our data include: high variance within the city income data, with multiple instances of data in which the deviation were much greater than central tendencies; exclusion of certain cities without enough fast food restaurant data to support our analyses; city income distributions not matching national income distributions - this led to difficulties in classifying data as high income. These issues would largely affect our t-test analysis. The high variance and lack of conformity to a national distribution affects the calculation of our p-value. Additionally, any change to our classification method for high/low income would drastically change our input into our t-test. Due to these various uncertainties, we resorted to inferential analysis using mean income and rating data to check if we'd find some significant results in linear regression. \n",
    "\n",
    "Visually, our regression line was nearly a straight horizontal line. This observation was supported by the OLS Regression results in many ways: The coefficient (2.483E-7) and it's 95% Confidence Interval range of (-1.42e-06, 1.92e-06) could almost be mistaken for a rounding error and indicate the slope could've very easily have been either negative or positive; The P-Val for the coefficient, similar to our p-val for our t-test, has a large value of 0.77 which further indicates the high likelihood of these results being generated by random chance; Finally, an $R^2$ value of 0 implies there is no discernable correlation between rating and mean income."
   ]
  },
  {
   "cell_type": "markdown",
   "metadata": {},
   "source": [
    "# Team Contributions"
   ]
  },
  {
   "attachments": {},
   "cell_type": "markdown",
   "metadata": {},
   "source": [
    "### Everyone:\n",
    "- Attended weekly meetings\n",
    "- Meeting notes\n",
    "- Engaged in discussions\n",
    "- Came up with research topic\n",
    "- Discussed weekly plans and steps needed to take before each checkpoint\n",
    "- Reviewed pull requests for the repository\n",
    "- Team video\n",
    "\n",
    "### Akar:\n",
    "- Explored webscraping options in Python and other languages\n",
    "- Code to pull nearby restauraunt locations off of a central location point\n",
    "- Finished Overview portion of the final project\n",
    "- Finished Conclusion and Discussion portion of the final project\n",
    "- Statistical analyses in the EDA portion of the project\n",
    "- Revised EDA portion after new data filtering added\n",
    "- Handled GitHub repo issues\n",
    "\n",
    "### Asya:\n",
    "- Updated ethics and privacy from project proposal\n",
    "- Primarily worked on the initial EDA steps for the checkpoint\n",
    "- Researched Google API documentation for restauraunt info\n",
    "- Statistical analyses in the EDA portion of the project\n",
    "\n",
    "### Cody:\n",
    "- Finished Overview portion of the final project\n",
    "- Finished Conclusion and Discussion portion of the final project\n",
    "- Handled recording process for the team video\n",
    "\n",
    "### Grant:\n",
    "- Finished writeup for the Project Proposal \n",
    "- Wrote code for the data cleaning in the Data Checkpoint\n",
    "- Explored API options and webscraping options for restaurant info\n",
    "\n",
    "### Justin:\n",
    "- Found datasets\n",
    "- Explored the feasibility of heatmap analysis\n",
    "- Mapped restaurant rating density on a US map of our data\n",
    "- Statistical analyses in the EDA portion of the project"
   ]
  }
 ],
 "metadata": {
  "kernelspec": {
   "display_name": "Python 3",
   "language": "python",
   "name": "python3"
  },
  "language_info": {
   "codemirror_mode": {
    "name": "ipython",
    "version": 3
   },
   "file_extension": ".py",
   "mimetype": "text/x-python",
   "name": "python",
   "nbconvert_exporter": "python",
   "pygments_lexer": "ipython3",
   "version": "3.10.8 (tags/v3.10.8:aaaf517, Oct 11 2022, 16:50:30) [MSC v.1933 64 bit (AMD64)]"
  },
  "vscode": {
   "interpreter": {
    "hash": "3c4716942b2efce5de2db2cd5566d2480170883f44ba7efdf04a5142359b6f11"
   }
  }
 },
 "nbformat": 4,
 "nbformat_minor": 2
}
